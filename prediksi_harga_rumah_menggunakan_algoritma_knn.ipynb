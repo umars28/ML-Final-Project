{
  "cells": [
    {
      "cell_type": "markdown",
      "source": [
        "Nama : Umar Sabirin, NIM : H071201059, Kelas : Machine Learning B\n"
      ],
      "metadata": {
        "id": "r9UP3yUSAwyY"
      },
      "id": "r9UP3yUSAwyY"
    },
    {
      "cell_type": "markdown",
      "source": [
        "Link Dataset : https://docs.google.com/spreadsheets/d/1DDzvXCNCfa95RJgieL8ZWOJ7WE7FXED0/edit?usp=sharing&ouid=103329956455291302334&rtpof=true&sd=true"
      ],
      "metadata": {
        "id": "QdtngbN8BLcp"
      },
      "id": "QdtngbN8BLcp"
    },
    {
      "cell_type": "code",
      "execution_count": 1,
      "id": "217ed793",
      "metadata": {
        "_cell_guid": "b1076dfc-b9ad-4769-8c92-a6c4dae69d19",
        "_uuid": "8f2839f25d086af736a60e9eeb907d3b93b6e0e5",
        "execution": {
          "iopub.execute_input": "2021-07-15T08:59:54.325638Z",
          "iopub.status.busy": "2021-07-15T08:59:54.324102Z",
          "iopub.status.idle": "2021-07-15T08:59:54.347806Z",
          "shell.execute_reply": "2021-07-15T08:59:54.348338Z",
          "shell.execute_reply.started": "2021-07-15T08:46:16.072904Z"
        },
        "papermill": {
          "duration": 0.047289,
          "end_time": "2021-07-15T08:59:54.348625",
          "exception": false,
          "start_time": "2021-07-15T08:59:54.301336",
          "status": "completed"
        },
        "tags": [],
        "id": "217ed793"
      },
      "outputs": [],
      "source": [
        "import numpy as np # linear algebra\n",
        "import pandas as pd # data processing\n",
        "import matplotlib.pyplot as plt\n",
        "import sklearn.metrics as metrics"
      ]
    },
    {
      "cell_type": "markdown",
      "id": "f41004e8",
      "metadata": {
        "papermill": {
          "duration": 0.016992,
          "end_time": "2021-07-15T08:59:55.375201",
          "exception": false,
          "start_time": "2021-07-15T08:59:55.358209",
          "status": "completed"
        },
        "tags": [],
        "id": "f41004e8"
      },
      "source": [
        "**Load data**"
      ]
    },
    {
      "cell_type": "code",
      "execution_count": 2,
      "id": "b7c5bc37",
      "metadata": {
        "execution": {
          "iopub.execute_input": "2021-07-15T08:59:55.409637Z",
          "iopub.status.busy": "2021-07-15T08:59:55.408889Z",
          "iopub.status.idle": "2021-07-15T08:59:55.425284Z",
          "shell.execute_reply": "2021-07-15T08:59:55.425703Z",
          "shell.execute_reply.started": "2021-07-15T08:46:16.098469Z"
        },
        "papermill": {
          "duration": 0.035439,
          "end_time": "2021-07-15T08:59:55.425820",
          "exception": false,
          "start_time": "2021-07-15T08:59:55.390381",
          "status": "completed"
        },
        "tags": [],
        "colab": {
          "base_uri": "https://localhost:8080/"
        },
        "id": "b7c5bc37",
        "outputId": "25fc26ee-fcd7-4356-a186-715a23f5fbf9"
      },
      "outputs": [
        {
          "output_type": "execute_result",
          "data": {
            "text/plain": [
              "(1010, 7)"
            ]
          },
          "metadata": {},
          "execution_count": 2
        }
      ],
      "source": [
        "data_location = '/content/DATA RUMAH.xlsx'\n",
        "row_data = pd.read_excel(data_location, usecols=['NAMA RUMAH' ,'HARGA', 'LB', 'LT', 'KT', 'KM','GRS'])\n",
        "row_data.columns = ['Nama Rumah' ,'Harga Rumah', 'Luas Bangunan', 'Luas Tanah', 'Kamar Tidur', 'Kamar Mandi', 'Garasi']\n",
        "\n",
        "row_data.shape"
      ]
    },
    {
      "cell_type": "code",
      "execution_count": 3,
      "id": "f74b9f10",
      "metadata": {
        "execution": {
          "iopub.execute_input": "2021-07-15T08:59:55.467167Z",
          "iopub.status.busy": "2021-07-15T08:59:55.466595Z",
          "iopub.status.idle": "2021-07-15T08:59:55.482408Z",
          "shell.execute_reply": "2021-07-15T08:59:55.482865Z",
          "shell.execute_reply.started": "2021-07-15T08:46:16.113493Z"
        },
        "papermill": {
          "duration": 0.041382,
          "end_time": "2021-07-15T08:59:55.482999",
          "exception": false,
          "start_time": "2021-07-15T08:59:55.441617",
          "status": "completed"
        },
        "tags": [],
        "colab": {
          "base_uri": "https://localhost:8080/",
          "height": 206
        },
        "id": "f74b9f10",
        "outputId": "da275921-5b7b-4cef-ab86-5bbfb3cf7ce8"
      },
      "outputs": [
        {
          "output_type": "execute_result",
          "data": {
            "text/plain": [
              "                                          Nama Rumah  Harga Rumah  \\\n",
              "0  Rumah Murah Hook Tebet Timur, Tebet, Jakarta S...   3800000000   \n",
              "1  Rumah Modern di Tebet dekat Stasiun, Tebet, Ja...   4600000000   \n",
              "2  Rumah Mewah 2 Lantai Hanya 3 Menit Ke Tebet, T...   3000000000   \n",
              "3           Rumah Baru Tebet, Tebet, Jakarta Selatan    430000000   \n",
              "4  Rumah Bagus Tebet komp Gudang Peluru lt 350m, ...   9000000000   \n",
              "\n",
              "   Luas Bangunan  Luas Tanah  Kamar Tidur  Kamar Mandi  Garasi  \n",
              "0            220         220            3            3       0  \n",
              "1            180         137            4            3       2  \n",
              "2            267         250            4            4       4  \n",
              "3             40          25            2            2       0  \n",
              "4            400         355            6            5       3  "
            ],
            "text/html": [
              "\n",
              "  <div id=\"df-f4ff3256-45fb-4052-9dca-fa3d8e9c641b\">\n",
              "    <div class=\"colab-df-container\">\n",
              "      <div>\n",
              "<style scoped>\n",
              "    .dataframe tbody tr th:only-of-type {\n",
              "        vertical-align: middle;\n",
              "    }\n",
              "\n",
              "    .dataframe tbody tr th {\n",
              "        vertical-align: top;\n",
              "    }\n",
              "\n",
              "    .dataframe thead th {\n",
              "        text-align: right;\n",
              "    }\n",
              "</style>\n",
              "<table border=\"1\" class=\"dataframe\">\n",
              "  <thead>\n",
              "    <tr style=\"text-align: right;\">\n",
              "      <th></th>\n",
              "      <th>Nama Rumah</th>\n",
              "      <th>Harga Rumah</th>\n",
              "      <th>Luas Bangunan</th>\n",
              "      <th>Luas Tanah</th>\n",
              "      <th>Kamar Tidur</th>\n",
              "      <th>Kamar Mandi</th>\n",
              "      <th>Garasi</th>\n",
              "    </tr>\n",
              "  </thead>\n",
              "  <tbody>\n",
              "    <tr>\n",
              "      <th>0</th>\n",
              "      <td>Rumah Murah Hook Tebet Timur, Tebet, Jakarta S...</td>\n",
              "      <td>3800000000</td>\n",
              "      <td>220</td>\n",
              "      <td>220</td>\n",
              "      <td>3</td>\n",
              "      <td>3</td>\n",
              "      <td>0</td>\n",
              "    </tr>\n",
              "    <tr>\n",
              "      <th>1</th>\n",
              "      <td>Rumah Modern di Tebet dekat Stasiun, Tebet, Ja...</td>\n",
              "      <td>4600000000</td>\n",
              "      <td>180</td>\n",
              "      <td>137</td>\n",
              "      <td>4</td>\n",
              "      <td>3</td>\n",
              "      <td>2</td>\n",
              "    </tr>\n",
              "    <tr>\n",
              "      <th>2</th>\n",
              "      <td>Rumah Mewah 2 Lantai Hanya 3 Menit Ke Tebet, T...</td>\n",
              "      <td>3000000000</td>\n",
              "      <td>267</td>\n",
              "      <td>250</td>\n",
              "      <td>4</td>\n",
              "      <td>4</td>\n",
              "      <td>4</td>\n",
              "    </tr>\n",
              "    <tr>\n",
              "      <th>3</th>\n",
              "      <td>Rumah Baru Tebet, Tebet, Jakarta Selatan</td>\n",
              "      <td>430000000</td>\n",
              "      <td>40</td>\n",
              "      <td>25</td>\n",
              "      <td>2</td>\n",
              "      <td>2</td>\n",
              "      <td>0</td>\n",
              "    </tr>\n",
              "    <tr>\n",
              "      <th>4</th>\n",
              "      <td>Rumah Bagus Tebet komp Gudang Peluru lt 350m, ...</td>\n",
              "      <td>9000000000</td>\n",
              "      <td>400</td>\n",
              "      <td>355</td>\n",
              "      <td>6</td>\n",
              "      <td>5</td>\n",
              "      <td>3</td>\n",
              "    </tr>\n",
              "  </tbody>\n",
              "</table>\n",
              "</div>\n",
              "      <button class=\"colab-df-convert\" onclick=\"convertToInteractive('df-f4ff3256-45fb-4052-9dca-fa3d8e9c641b')\"\n",
              "              title=\"Convert this dataframe to an interactive table.\"\n",
              "              style=\"display:none;\">\n",
              "        \n",
              "  <svg xmlns=\"http://www.w3.org/2000/svg\" height=\"24px\"viewBox=\"0 0 24 24\"\n",
              "       width=\"24px\">\n",
              "    <path d=\"M0 0h24v24H0V0z\" fill=\"none\"/>\n",
              "    <path d=\"M18.56 5.44l.94 2.06.94-2.06 2.06-.94-2.06-.94-.94-2.06-.94 2.06-2.06.94zm-11 1L8.5 8.5l.94-2.06 2.06-.94-2.06-.94L8.5 2.5l-.94 2.06-2.06.94zm10 10l.94 2.06.94-2.06 2.06-.94-2.06-.94-.94-2.06-.94 2.06-2.06.94z\"/><path d=\"M17.41 7.96l-1.37-1.37c-.4-.4-.92-.59-1.43-.59-.52 0-1.04.2-1.43.59L10.3 9.45l-7.72 7.72c-.78.78-.78 2.05 0 2.83L4 21.41c.39.39.9.59 1.41.59.51 0 1.02-.2 1.41-.59l7.78-7.78 2.81-2.81c.8-.78.8-2.07 0-2.86zM5.41 20L4 18.59l7.72-7.72 1.47 1.35L5.41 20z\"/>\n",
              "  </svg>\n",
              "      </button>\n",
              "      \n",
              "  <style>\n",
              "    .colab-df-container {\n",
              "      display:flex;\n",
              "      flex-wrap:wrap;\n",
              "      gap: 12px;\n",
              "    }\n",
              "\n",
              "    .colab-df-convert {\n",
              "      background-color: #E8F0FE;\n",
              "      border: none;\n",
              "      border-radius: 50%;\n",
              "      cursor: pointer;\n",
              "      display: none;\n",
              "      fill: #1967D2;\n",
              "      height: 32px;\n",
              "      padding: 0 0 0 0;\n",
              "      width: 32px;\n",
              "    }\n",
              "\n",
              "    .colab-df-convert:hover {\n",
              "      background-color: #E2EBFA;\n",
              "      box-shadow: 0px 1px 2px rgba(60, 64, 67, 0.3), 0px 1px 3px 1px rgba(60, 64, 67, 0.15);\n",
              "      fill: #174EA6;\n",
              "    }\n",
              "\n",
              "    [theme=dark] .colab-df-convert {\n",
              "      background-color: #3B4455;\n",
              "      fill: #D2E3FC;\n",
              "    }\n",
              "\n",
              "    [theme=dark] .colab-df-convert:hover {\n",
              "      background-color: #434B5C;\n",
              "      box-shadow: 0px 1px 3px 1px rgba(0, 0, 0, 0.15);\n",
              "      filter: drop-shadow(0px 1px 2px rgba(0, 0, 0, 0.3));\n",
              "      fill: #FFFFFF;\n",
              "    }\n",
              "  </style>\n",
              "\n",
              "      <script>\n",
              "        const buttonEl =\n",
              "          document.querySelector('#df-f4ff3256-45fb-4052-9dca-fa3d8e9c641b button.colab-df-convert');\n",
              "        buttonEl.style.display =\n",
              "          google.colab.kernel.accessAllowed ? 'block' : 'none';\n",
              "\n",
              "        async function convertToInteractive(key) {\n",
              "          const element = document.querySelector('#df-f4ff3256-45fb-4052-9dca-fa3d8e9c641b');\n",
              "          const dataTable =\n",
              "            await google.colab.kernel.invokeFunction('convertToInteractive',\n",
              "                                                     [key], {});\n",
              "          if (!dataTable) return;\n",
              "\n",
              "          const docLinkHtml = 'Like what you see? Visit the ' +\n",
              "            '<a target=\"_blank\" href=https://colab.research.google.com/notebooks/data_table.ipynb>data table notebook</a>'\n",
              "            + ' to learn more about interactive tables.';\n",
              "          element.innerHTML = '';\n",
              "          dataTable['output_type'] = 'display_data';\n",
              "          await google.colab.output.renderOutput(dataTable, element);\n",
              "          const docLink = document.createElement('div');\n",
              "          docLink.innerHTML = docLinkHtml;\n",
              "          element.appendChild(docLink);\n",
              "        }\n",
              "      </script>\n",
              "    </div>\n",
              "  </div>\n",
              "  "
            ]
          },
          "metadata": {},
          "execution_count": 3
        }
      ],
      "source": [
        "#membaca data 5 teratas\n",
        "row_data.head()"
      ]
    },
    {
      "cell_type": "markdown",
      "id": "4dce84b3",
      "metadata": {
        "papermill": {
          "duration": 0.015771,
          "end_time": "2021-07-15T08:59:55.514730",
          "exception": false,
          "start_time": "2021-07-15T08:59:55.498959",
          "status": "completed"
        },
        "tags": [],
        "id": "4dce84b3"
      },
      "source": [
        "**Membersihkan data yang tidak lengkap (Jika ada)**"
      ]
    },
    {
      "cell_type": "code",
      "execution_count": 4,
      "id": "63ec916d",
      "metadata": {
        "execution": {
          "iopub.execute_input": "2021-07-15T08:59:55.550990Z",
          "iopub.status.busy": "2021-07-15T08:59:55.550433Z",
          "iopub.status.idle": "2021-07-15T08:59:55.591288Z",
          "shell.execute_reply": "2021-07-15T08:59:55.590790Z",
          "shell.execute_reply.started": "2021-07-15T08:46:16.124442Z"
        },
        "papermill": {
          "duration": 0.061233,
          "end_time": "2021-07-15T08:59:55.591461",
          "exception": false,
          "start_time": "2021-07-15T08:59:55.530228",
          "status": "completed"
        },
        "tags": [],
        "colab": {
          "base_uri": "https://localhost:8080/",
          "height": 300
        },
        "id": "63ec916d",
        "outputId": "0402cd2a-4a56-4b29-d1c3-874ca54c81c1"
      },
      "outputs": [
        {
          "output_type": "execute_result",
          "data": {
            "text/plain": [
              "        Harga Rumah  Luas Bangunan   Luas Tanah  Kamar Tidur  Kamar Mandi  \\\n",
              "count  1.010000e+03    1010.000000  1010.000000  1010.000000  1010.000000   \n",
              "mean   7.628987e+09     276.539604   237.432673     4.668317     3.607921   \n",
              "std    7.340946e+09     177.864557   179.957604     1.572776     1.420066   \n",
              "min    4.300000e+08      40.000000    25.000000     2.000000     1.000000   \n",
              "25%    3.262500e+09     150.000000   130.000000     4.000000     3.000000   \n",
              "50%    5.000000e+09     216.500000   165.000000     4.000000     3.000000   \n",
              "75%    9.000000e+09     350.000000   290.000000     5.000000     4.000000   \n",
              "max    6.500000e+10    1126.000000  1400.000000    10.000000    10.000000   \n",
              "\n",
              "            Garasi  \n",
              "count  1010.000000  \n",
              "mean      1.920792  \n",
              "std       1.510998  \n",
              "min       0.000000  \n",
              "25%       1.000000  \n",
              "50%       2.000000  \n",
              "75%       2.000000  \n",
              "max      10.000000  "
            ],
            "text/html": [
              "\n",
              "  <div id=\"df-e81997b0-291c-4c4a-ae4e-3417f3fb7b43\">\n",
              "    <div class=\"colab-df-container\">\n",
              "      <div>\n",
              "<style scoped>\n",
              "    .dataframe tbody tr th:only-of-type {\n",
              "        vertical-align: middle;\n",
              "    }\n",
              "\n",
              "    .dataframe tbody tr th {\n",
              "        vertical-align: top;\n",
              "    }\n",
              "\n",
              "    .dataframe thead th {\n",
              "        text-align: right;\n",
              "    }\n",
              "</style>\n",
              "<table border=\"1\" class=\"dataframe\">\n",
              "  <thead>\n",
              "    <tr style=\"text-align: right;\">\n",
              "      <th></th>\n",
              "      <th>Harga Rumah</th>\n",
              "      <th>Luas Bangunan</th>\n",
              "      <th>Luas Tanah</th>\n",
              "      <th>Kamar Tidur</th>\n",
              "      <th>Kamar Mandi</th>\n",
              "      <th>Garasi</th>\n",
              "    </tr>\n",
              "  </thead>\n",
              "  <tbody>\n",
              "    <tr>\n",
              "      <th>count</th>\n",
              "      <td>1.010000e+03</td>\n",
              "      <td>1010.000000</td>\n",
              "      <td>1010.000000</td>\n",
              "      <td>1010.000000</td>\n",
              "      <td>1010.000000</td>\n",
              "      <td>1010.000000</td>\n",
              "    </tr>\n",
              "    <tr>\n",
              "      <th>mean</th>\n",
              "      <td>7.628987e+09</td>\n",
              "      <td>276.539604</td>\n",
              "      <td>237.432673</td>\n",
              "      <td>4.668317</td>\n",
              "      <td>3.607921</td>\n",
              "      <td>1.920792</td>\n",
              "    </tr>\n",
              "    <tr>\n",
              "      <th>std</th>\n",
              "      <td>7.340946e+09</td>\n",
              "      <td>177.864557</td>\n",
              "      <td>179.957604</td>\n",
              "      <td>1.572776</td>\n",
              "      <td>1.420066</td>\n",
              "      <td>1.510998</td>\n",
              "    </tr>\n",
              "    <tr>\n",
              "      <th>min</th>\n",
              "      <td>4.300000e+08</td>\n",
              "      <td>40.000000</td>\n",
              "      <td>25.000000</td>\n",
              "      <td>2.000000</td>\n",
              "      <td>1.000000</td>\n",
              "      <td>0.000000</td>\n",
              "    </tr>\n",
              "    <tr>\n",
              "      <th>25%</th>\n",
              "      <td>3.262500e+09</td>\n",
              "      <td>150.000000</td>\n",
              "      <td>130.000000</td>\n",
              "      <td>4.000000</td>\n",
              "      <td>3.000000</td>\n",
              "      <td>1.000000</td>\n",
              "    </tr>\n",
              "    <tr>\n",
              "      <th>50%</th>\n",
              "      <td>5.000000e+09</td>\n",
              "      <td>216.500000</td>\n",
              "      <td>165.000000</td>\n",
              "      <td>4.000000</td>\n",
              "      <td>3.000000</td>\n",
              "      <td>2.000000</td>\n",
              "    </tr>\n",
              "    <tr>\n",
              "      <th>75%</th>\n",
              "      <td>9.000000e+09</td>\n",
              "      <td>350.000000</td>\n",
              "      <td>290.000000</td>\n",
              "      <td>5.000000</td>\n",
              "      <td>4.000000</td>\n",
              "      <td>2.000000</td>\n",
              "    </tr>\n",
              "    <tr>\n",
              "      <th>max</th>\n",
              "      <td>6.500000e+10</td>\n",
              "      <td>1126.000000</td>\n",
              "      <td>1400.000000</td>\n",
              "      <td>10.000000</td>\n",
              "      <td>10.000000</td>\n",
              "      <td>10.000000</td>\n",
              "    </tr>\n",
              "  </tbody>\n",
              "</table>\n",
              "</div>\n",
              "      <button class=\"colab-df-convert\" onclick=\"convertToInteractive('df-e81997b0-291c-4c4a-ae4e-3417f3fb7b43')\"\n",
              "              title=\"Convert this dataframe to an interactive table.\"\n",
              "              style=\"display:none;\">\n",
              "        \n",
              "  <svg xmlns=\"http://www.w3.org/2000/svg\" height=\"24px\"viewBox=\"0 0 24 24\"\n",
              "       width=\"24px\">\n",
              "    <path d=\"M0 0h24v24H0V0z\" fill=\"none\"/>\n",
              "    <path d=\"M18.56 5.44l.94 2.06.94-2.06 2.06-.94-2.06-.94-.94-2.06-.94 2.06-2.06.94zm-11 1L8.5 8.5l.94-2.06 2.06-.94-2.06-.94L8.5 2.5l-.94 2.06-2.06.94zm10 10l.94 2.06.94-2.06 2.06-.94-2.06-.94-.94-2.06-.94 2.06-2.06.94z\"/><path d=\"M17.41 7.96l-1.37-1.37c-.4-.4-.92-.59-1.43-.59-.52 0-1.04.2-1.43.59L10.3 9.45l-7.72 7.72c-.78.78-.78 2.05 0 2.83L4 21.41c.39.39.9.59 1.41.59.51 0 1.02-.2 1.41-.59l7.78-7.78 2.81-2.81c.8-.78.8-2.07 0-2.86zM5.41 20L4 18.59l7.72-7.72 1.47 1.35L5.41 20z\"/>\n",
              "  </svg>\n",
              "      </button>\n",
              "      \n",
              "  <style>\n",
              "    .colab-df-container {\n",
              "      display:flex;\n",
              "      flex-wrap:wrap;\n",
              "      gap: 12px;\n",
              "    }\n",
              "\n",
              "    .colab-df-convert {\n",
              "      background-color: #E8F0FE;\n",
              "      border: none;\n",
              "      border-radius: 50%;\n",
              "      cursor: pointer;\n",
              "      display: none;\n",
              "      fill: #1967D2;\n",
              "      height: 32px;\n",
              "      padding: 0 0 0 0;\n",
              "      width: 32px;\n",
              "    }\n",
              "\n",
              "    .colab-df-convert:hover {\n",
              "      background-color: #E2EBFA;\n",
              "      box-shadow: 0px 1px 2px rgba(60, 64, 67, 0.3), 0px 1px 3px 1px rgba(60, 64, 67, 0.15);\n",
              "      fill: #174EA6;\n",
              "    }\n",
              "\n",
              "    [theme=dark] .colab-df-convert {\n",
              "      background-color: #3B4455;\n",
              "      fill: #D2E3FC;\n",
              "    }\n",
              "\n",
              "    [theme=dark] .colab-df-convert:hover {\n",
              "      background-color: #434B5C;\n",
              "      box-shadow: 0px 1px 3px 1px rgba(0, 0, 0, 0.15);\n",
              "      filter: drop-shadow(0px 1px 2px rgba(0, 0, 0, 0.3));\n",
              "      fill: #FFFFFF;\n",
              "    }\n",
              "  </style>\n",
              "\n",
              "      <script>\n",
              "        const buttonEl =\n",
              "          document.querySelector('#df-e81997b0-291c-4c4a-ae4e-3417f3fb7b43 button.colab-df-convert');\n",
              "        buttonEl.style.display =\n",
              "          google.colab.kernel.accessAllowed ? 'block' : 'none';\n",
              "\n",
              "        async function convertToInteractive(key) {\n",
              "          const element = document.querySelector('#df-e81997b0-291c-4c4a-ae4e-3417f3fb7b43');\n",
              "          const dataTable =\n",
              "            await google.colab.kernel.invokeFunction('convertToInteractive',\n",
              "                                                     [key], {});\n",
              "          if (!dataTable) return;\n",
              "\n",
              "          const docLinkHtml = 'Like what you see? Visit the ' +\n",
              "            '<a target=\"_blank\" href=https://colab.research.google.com/notebooks/data_table.ipynb>data table notebook</a>'\n",
              "            + ' to learn more about interactive tables.';\n",
              "          element.innerHTML = '';\n",
              "          dataTable['output_type'] = 'display_data';\n",
              "          await google.colab.output.renderOutput(dataTable, element);\n",
              "          const docLink = document.createElement('div');\n",
              "          docLink.innerHTML = docLinkHtml;\n",
              "          element.appendChild(docLink);\n",
              "        }\n",
              "      </script>\n",
              "    </div>\n",
              "  </div>\n",
              "  "
            ]
          },
          "metadata": {},
          "execution_count": 4
        }
      ],
      "source": [
        "df = row_data.dropna(axis=0)\n",
        "df.describe()"
      ]
    },
    {
      "cell_type": "code",
      "execution_count": 5,
      "id": "0f132e31",
      "metadata": {
        "execution": {
          "iopub.execute_input": "2021-07-15T08:59:55.629276Z",
          "iopub.status.busy": "2021-07-15T08:59:55.628725Z",
          "iopub.status.idle": "2021-07-15T08:59:55.631993Z",
          "shell.execute_reply": "2021-07-15T08:59:55.632577Z",
          "shell.execute_reply.started": "2021-07-15T08:46:16.155374Z"
        },
        "papermill": {
          "duration": 0.025107,
          "end_time": "2021-07-15T08:59:55.632739",
          "exception": false,
          "start_time": "2021-07-15T08:59:55.607632",
          "status": "completed"
        },
        "tags": [],
        "colab": {
          "base_uri": "https://localhost:8080/"
        },
        "id": "0f132e31",
        "outputId": "c2491bc8-b959-4638-f5fd-c38c6dfdf60a"
      },
      "outputs": [
        {
          "output_type": "stream",
          "name": "stdout",
          "text": [
            "Nama Rumah       object\n",
            "Harga Rumah       int64\n",
            "Luas Bangunan     int64\n",
            "Luas Tanah        int64\n",
            "Kamar Tidur       int64\n",
            "Kamar Mandi       int64\n",
            "Garasi            int64\n",
            "dtype: object\n"
          ]
        }
      ],
      "source": [
        "print(df.dtypes)"
      ]
    },
    {
      "cell_type": "markdown",
      "id": "8193e5e2",
      "metadata": {
        "papermill": {
          "duration": 0.017703,
          "end_time": "2021-07-15T08:59:55.667514",
          "exception": false,
          "start_time": "2021-07-15T08:59:55.649811",
          "status": "completed"
        },
        "tags": [],
        "id": "8193e5e2"
      },
      "source": [
        "**Menentukan variabel independen dan dependen**"
      ]
    },
    {
      "cell_type": "code",
      "execution_count": 6,
      "id": "8ca32138",
      "metadata": {
        "execution": {
          "iopub.execute_input": "2021-07-15T08:59:55.713018Z",
          "iopub.status.busy": "2021-07-15T08:59:55.712209Z",
          "iopub.status.idle": "2021-07-15T08:59:55.716013Z",
          "shell.execute_reply": "2021-07-15T08:59:55.715613Z",
          "shell.execute_reply.started": "2021-07-15T08:46:16.163019Z"
        },
        "papermill": {
          "duration": 0.029392,
          "end_time": "2021-07-15T08:59:55.716117",
          "exception": false,
          "start_time": "2021-07-15T08:59:55.686725",
          "status": "completed"
        },
        "tags": [],
        "colab": {
          "base_uri": "https://localhost:8080/",
          "height": 206
        },
        "id": "8ca32138",
        "outputId": "696d8db0-d010-46ae-9c18-db6bf4d2183f"
      },
      "outputs": [
        {
          "output_type": "execute_result",
          "data": {
            "text/plain": [
              "   Luas Bangunan  Luas Tanah  Kamar Tidur  Kamar Mandi  Garasi\n",
              "0            220         220            3            3       0\n",
              "1            180         137            4            3       2\n",
              "2            267         250            4            4       4\n",
              "3             40          25            2            2       0\n",
              "4            400         355            6            5       3"
            ],
            "text/html": [
              "\n",
              "  <div id=\"df-289867e9-6659-4d5e-b99c-8bd986622648\">\n",
              "    <div class=\"colab-df-container\">\n",
              "      <div>\n",
              "<style scoped>\n",
              "    .dataframe tbody tr th:only-of-type {\n",
              "        vertical-align: middle;\n",
              "    }\n",
              "\n",
              "    .dataframe tbody tr th {\n",
              "        vertical-align: top;\n",
              "    }\n",
              "\n",
              "    .dataframe thead th {\n",
              "        text-align: right;\n",
              "    }\n",
              "</style>\n",
              "<table border=\"1\" class=\"dataframe\">\n",
              "  <thead>\n",
              "    <tr style=\"text-align: right;\">\n",
              "      <th></th>\n",
              "      <th>Luas Bangunan</th>\n",
              "      <th>Luas Tanah</th>\n",
              "      <th>Kamar Tidur</th>\n",
              "      <th>Kamar Mandi</th>\n",
              "      <th>Garasi</th>\n",
              "    </tr>\n",
              "  </thead>\n",
              "  <tbody>\n",
              "    <tr>\n",
              "      <th>0</th>\n",
              "      <td>220</td>\n",
              "      <td>220</td>\n",
              "      <td>3</td>\n",
              "      <td>3</td>\n",
              "      <td>0</td>\n",
              "    </tr>\n",
              "    <tr>\n",
              "      <th>1</th>\n",
              "      <td>180</td>\n",
              "      <td>137</td>\n",
              "      <td>4</td>\n",
              "      <td>3</td>\n",
              "      <td>2</td>\n",
              "    </tr>\n",
              "    <tr>\n",
              "      <th>2</th>\n",
              "      <td>267</td>\n",
              "      <td>250</td>\n",
              "      <td>4</td>\n",
              "      <td>4</td>\n",
              "      <td>4</td>\n",
              "    </tr>\n",
              "    <tr>\n",
              "      <th>3</th>\n",
              "      <td>40</td>\n",
              "      <td>25</td>\n",
              "      <td>2</td>\n",
              "      <td>2</td>\n",
              "      <td>0</td>\n",
              "    </tr>\n",
              "    <tr>\n",
              "      <th>4</th>\n",
              "      <td>400</td>\n",
              "      <td>355</td>\n",
              "      <td>6</td>\n",
              "      <td>5</td>\n",
              "      <td>3</td>\n",
              "    </tr>\n",
              "  </tbody>\n",
              "</table>\n",
              "</div>\n",
              "      <button class=\"colab-df-convert\" onclick=\"convertToInteractive('df-289867e9-6659-4d5e-b99c-8bd986622648')\"\n",
              "              title=\"Convert this dataframe to an interactive table.\"\n",
              "              style=\"display:none;\">\n",
              "        \n",
              "  <svg xmlns=\"http://www.w3.org/2000/svg\" height=\"24px\"viewBox=\"0 0 24 24\"\n",
              "       width=\"24px\">\n",
              "    <path d=\"M0 0h24v24H0V0z\" fill=\"none\"/>\n",
              "    <path d=\"M18.56 5.44l.94 2.06.94-2.06 2.06-.94-2.06-.94-.94-2.06-.94 2.06-2.06.94zm-11 1L8.5 8.5l.94-2.06 2.06-.94-2.06-.94L8.5 2.5l-.94 2.06-2.06.94zm10 10l.94 2.06.94-2.06 2.06-.94-2.06-.94-.94-2.06-.94 2.06-2.06.94z\"/><path d=\"M17.41 7.96l-1.37-1.37c-.4-.4-.92-.59-1.43-.59-.52 0-1.04.2-1.43.59L10.3 9.45l-7.72 7.72c-.78.78-.78 2.05 0 2.83L4 21.41c.39.39.9.59 1.41.59.51 0 1.02-.2 1.41-.59l7.78-7.78 2.81-2.81c.8-.78.8-2.07 0-2.86zM5.41 20L4 18.59l7.72-7.72 1.47 1.35L5.41 20z\"/>\n",
              "  </svg>\n",
              "      </button>\n",
              "      \n",
              "  <style>\n",
              "    .colab-df-container {\n",
              "      display:flex;\n",
              "      flex-wrap:wrap;\n",
              "      gap: 12px;\n",
              "    }\n",
              "\n",
              "    .colab-df-convert {\n",
              "      background-color: #E8F0FE;\n",
              "      border: none;\n",
              "      border-radius: 50%;\n",
              "      cursor: pointer;\n",
              "      display: none;\n",
              "      fill: #1967D2;\n",
              "      height: 32px;\n",
              "      padding: 0 0 0 0;\n",
              "      width: 32px;\n",
              "    }\n",
              "\n",
              "    .colab-df-convert:hover {\n",
              "      background-color: #E2EBFA;\n",
              "      box-shadow: 0px 1px 2px rgba(60, 64, 67, 0.3), 0px 1px 3px 1px rgba(60, 64, 67, 0.15);\n",
              "      fill: #174EA6;\n",
              "    }\n",
              "\n",
              "    [theme=dark] .colab-df-convert {\n",
              "      background-color: #3B4455;\n",
              "      fill: #D2E3FC;\n",
              "    }\n",
              "\n",
              "    [theme=dark] .colab-df-convert:hover {\n",
              "      background-color: #434B5C;\n",
              "      box-shadow: 0px 1px 3px 1px rgba(0, 0, 0, 0.15);\n",
              "      filter: drop-shadow(0px 1px 2px rgba(0, 0, 0, 0.3));\n",
              "      fill: #FFFFFF;\n",
              "    }\n",
              "  </style>\n",
              "\n",
              "      <script>\n",
              "        const buttonEl =\n",
              "          document.querySelector('#df-289867e9-6659-4d5e-b99c-8bd986622648 button.colab-df-convert');\n",
              "        buttonEl.style.display =\n",
              "          google.colab.kernel.accessAllowed ? 'block' : 'none';\n",
              "\n",
              "        async function convertToInteractive(key) {\n",
              "          const element = document.querySelector('#df-289867e9-6659-4d5e-b99c-8bd986622648');\n",
              "          const dataTable =\n",
              "            await google.colab.kernel.invokeFunction('convertToInteractive',\n",
              "                                                     [key], {});\n",
              "          if (!dataTable) return;\n",
              "\n",
              "          const docLinkHtml = 'Like what you see? Visit the ' +\n",
              "            '<a target=\"_blank\" href=https://colab.research.google.com/notebooks/data_table.ipynb>data table notebook</a>'\n",
              "            + ' to learn more about interactive tables.';\n",
              "          element.innerHTML = '';\n",
              "          dataTable['output_type'] = 'display_data';\n",
              "          await google.colab.output.renderOutput(dataTable, element);\n",
              "          const docLink = document.createElement('div');\n",
              "          docLink.innerHTML = docLinkHtml;\n",
              "          element.appendChild(docLink);\n",
              "        }\n",
              "      </script>\n",
              "    </div>\n",
              "  </div>\n",
              "  "
            ]
          },
          "metadata": {},
          "execution_count": 6
        }
      ],
      "source": [
        "#Menentukan varibel independen dari data sehingga, menghapus varibel dependen yaitu harga\n",
        "x = df.drop([\"Harga Rumah\", \"Nama Rumah\"],axis = 1)\n",
        "x.head()\n"
      ]
    },
    {
      "cell_type": "markdown",
      "id": "5bc33c6d",
      "metadata": {
        "_kg_hide-output": true,
        "papermill": {
          "duration": 0.016144,
          "end_time": "2021-07-15T08:59:55.749421",
          "exception": false,
          "start_time": "2021-07-15T08:59:55.733277",
          "status": "completed"
        },
        "tags": [],
        "id": "5bc33c6d"
      },
      "source": []
    },
    {
      "cell_type": "code",
      "execution_count": 7,
      "id": "108ab4da",
      "metadata": {
        "execution": {
          "iopub.execute_input": "2021-07-15T08:59:55.791802Z",
          "iopub.status.busy": "2021-07-15T08:59:55.790943Z",
          "iopub.status.idle": "2021-07-15T08:59:55.794901Z",
          "shell.execute_reply": "2021-07-15T08:59:55.794435Z",
          "shell.execute_reply.started": "2021-07-15T08:46:16.178554Z"
        },
        "papermill": {
          "duration": 0.0283,
          "end_time": "2021-07-15T08:59:55.795020",
          "exception": false,
          "start_time": "2021-07-15T08:59:55.766720",
          "status": "completed"
        },
        "tags": [],
        "colab": {
          "base_uri": "https://localhost:8080/"
        },
        "id": "108ab4da",
        "outputId": "a90df654-d0ac-44f8-8fb1-f6285c185b97"
      },
      "outputs": [
        {
          "output_type": "execute_result",
          "data": {
            "text/plain": [
              "0    3800000000\n",
              "1    4600000000\n",
              "2    3000000000\n",
              "3     430000000\n",
              "4    9000000000\n",
              "Name: Harga Rumah, dtype: int64"
            ]
          },
          "metadata": {},
          "execution_count": 7
        }
      ],
      "source": [
        "#Menampilkan data varibel dependen\n",
        "y = df[\"Harga Rumah\"]\n",
        "y.head()"
      ]
    },
    {
      "cell_type": "markdown",
      "id": "4cd545fe",
      "metadata": {
        "papermill": {
          "duration": 0.016745,
          "end_time": "2021-07-15T08:59:55.830664",
          "exception": false,
          "start_time": "2021-07-15T08:59:55.813919",
          "status": "completed"
        },
        "tags": [],
        "id": "4cd545fe"
      },
      "source": [
        "**Membagi data untuk training dan validasi**"
      ]
    },
    {
      "cell_type": "code",
      "execution_count": 8,
      "id": "2a5807b1",
      "metadata": {
        "execution": {
          "iopub.execute_input": "2021-07-15T08:59:55.868450Z",
          "iopub.status.busy": "2021-07-15T08:59:55.867829Z",
          "iopub.status.idle": "2021-07-15T08:59:55.884774Z",
          "shell.execute_reply": "2021-07-15T08:59:55.884236Z",
          "shell.execute_reply.started": "2021-07-15T08:46:16.190512Z"
        },
        "papermill": {
          "duration": 0.037137,
          "end_time": "2021-07-15T08:59:55.884897",
          "exception": false,
          "start_time": "2021-07-15T08:59:55.847760",
          "status": "completed"
        },
        "tags": [],
        "id": "2a5807b1"
      },
      "outputs": [],
      "source": [
        "from sklearn.model_selection import train_test_split\n",
        "train_x, test_x, train_y, test_y = train_test_split(x,y,test_size = 0.2, random_state = 70)"
      ]
    },
    {
      "cell_type": "code",
      "source": [
        "train_x.shape"
      ],
      "metadata": {
        "colab": {
          "base_uri": "https://localhost:8080/"
        },
        "id": "uhYJkE23Omwq",
        "outputId": "81cca079-88e5-45d9-afa6-5af436b1f343"
      },
      "id": "uhYJkE23Omwq",
      "execution_count": 9,
      "outputs": [
        {
          "output_type": "execute_result",
          "data": {
            "text/plain": [
              "(808, 5)"
            ]
          },
          "metadata": {},
          "execution_count": 9
        }
      ]
    },
    {
      "cell_type": "code",
      "source": [
        "test_x.shape"
      ],
      "metadata": {
        "colab": {
          "base_uri": "https://localhost:8080/"
        },
        "id": "tkbK-3HTOscL",
        "outputId": "8715c084-c23b-4f69-9470-4246ac36405d"
      },
      "id": "tkbK-3HTOscL",
      "execution_count": 10,
      "outputs": [
        {
          "output_type": "execute_result",
          "data": {
            "text/plain": [
              "(202, 5)"
            ]
          },
          "metadata": {},
          "execution_count": 10
        }
      ]
    },
    {
      "cell_type": "markdown",
      "id": "970961fd",
      "metadata": {
        "papermill": {
          "duration": 0.017534,
          "end_time": "2021-07-15T08:59:55.922432",
          "exception": false,
          "start_time": "2021-07-15T08:59:55.904898",
          "status": "completed"
        },
        "tags": [],
        "id": "970961fd"
      },
      "source": [
        "**Membangun model dengan algoritma K-Nearest Neighbors**"
      ]
    },
    {
      "cell_type": "code",
      "execution_count": 11,
      "id": "a41bbc87",
      "metadata": {
        "execution": {
          "iopub.execute_input": "2021-07-15T08:59:55.961143Z",
          "iopub.status.busy": "2021-07-15T08:59:55.960516Z",
          "iopub.status.idle": "2021-07-15T08:59:56.090659Z",
          "shell.execute_reply": "2021-07-15T08:59:56.089882Z",
          "shell.execute_reply.started": "2021-07-15T08:46:16.327897Z"
        },
        "papermill": {
          "duration": 0.151502,
          "end_time": "2021-07-15T08:59:56.090872",
          "exception": false,
          "start_time": "2021-07-15T08:59:55.939370",
          "status": "completed"
        },
        "tags": [],
        "colab": {
          "base_uri": "https://localhost:8080/"
        },
        "id": "a41bbc87",
        "outputId": "ef47dee0-d26f-4782-9698-61676cab081e"
      },
      "outputs": [
        {
          "output_type": "stream",
          "name": "stdout",
          "text": [
            " MSE:  1.2862439460825563e+19 \n",
            " Accuracy:  0.6129905249526334\n"
          ]
        }
      ],
      "source": [
        "from sklearn.neighbors import KNeighborsRegressor as KNN_Reg\n",
        "from sklearn.metrics import mean_squared_error as mse\n",
        "\n",
        "model  = KNN_Reg(n_neighbors = 2)\n",
        "\n",
        "#training model\n",
        "model.fit(train_x, train_y)\n",
        "acc1 = model.score(test_x, test_y)\n",
        "\n",
        "# test for prediction\n",
        "test_predict = model.predict(test_x)\n",
        "score = mse(test_predict, test_y)\n",
        "print(' MSE: ', score, '\\n', 'Accuracy: ', acc1)  "
      ]
    },
    {
      "cell_type": "markdown",
      "id": "5a1b2e15",
      "metadata": {
        "papermill": {
          "duration": 0.019427,
          "end_time": "2021-07-15T08:59:56.133249",
          "exception": false,
          "start_time": "2021-07-15T08:59:56.113822",
          "status": "completed"
        },
        "tags": [],
        "id": "5a1b2e15"
      },
      "source": [
        "**Menggunakan elbow method untuk menentukan nilai K terbaik**"
      ]
    },
    {
      "cell_type": "code",
      "execution_count": 12,
      "id": "c9a28bb2",
      "metadata": {
        "execution": {
          "iopub.execute_input": "2021-07-15T08:59:56.172668Z",
          "iopub.status.busy": "2021-07-15T08:59:56.171956Z",
          "iopub.status.idle": "2021-07-15T08:59:56.174688Z",
          "shell.execute_reply": "2021-07-15T08:59:56.174180Z",
          "shell.execute_reply.started": "2021-07-15T08:46:16.346172Z"
        },
        "papermill": {
          "duration": 0.024656,
          "end_time": "2021-07-15T08:59:56.174795",
          "exception": false,
          "start_time": "2021-07-15T08:59:56.150139",
          "status": "completed"
        },
        "tags": [],
        "id": "c9a28bb2"
      },
      "outputs": [],
      "source": [
        "def Elbow(K):\n",
        "  #inisialisasi list kosong\n",
        "  test_mse =[]\n",
        "\n",
        "  #train model pada setiap nilai K\n",
        "  for i in K:\n",
        "    model = KNN_Reg(n_neighbors=i)\n",
        "    model.fit(train_x, train_y)\n",
        "    tmp = model.predict(test_x)\n",
        "    tmp = mse(tmp, test_y)\n",
        "    test_mse.append(tmp)\n",
        "  \n",
        "  return test_mse"
      ]
    },
    {
      "cell_type": "markdown",
      "id": "0b7d2ce3",
      "metadata": {
        "papermill": {
          "duration": 0.019228,
          "end_time": "2021-07-15T08:59:56.211350",
          "exception": false,
          "start_time": "2021-07-15T08:59:56.192122",
          "status": "completed"
        },
        "tags": [],
        "id": "0b7d2ce3"
      },
      "source": [
        "**Menampilkan grafik nilai k berdasarkan MSE**"
      ]
    },
    {
      "cell_type": "code",
      "execution_count": 13,
      "id": "cef0c3e1",
      "metadata": {
        "execution": {
          "iopub.execute_input": "2021-07-15T08:59:56.257655Z",
          "iopub.status.busy": "2021-07-15T08:59:56.255711Z",
          "iopub.status.idle": "2021-07-15T08:59:56.661937Z",
          "shell.execute_reply": "2021-07-15T08:59:56.663191Z",
          "shell.execute_reply.started": "2021-07-15T08:46:16.356768Z"
        },
        "papermill": {
          "duration": 0.431722,
          "end_time": "2021-07-15T08:59:56.663431",
          "exception": false,
          "start_time": "2021-07-15T08:59:56.231709",
          "status": "completed"
        },
        "tags": [],
        "colab": {
          "base_uri": "https://localhost:8080/",
          "height": 313
        },
        "id": "cef0c3e1",
        "outputId": "f5f615b6-f5bf-4ead-8653-6a5ee5fb544f"
      },
      "outputs": [
        {
          "output_type": "execute_result",
          "data": {
            "text/plain": [
              "Text(0.5, 1.0, 'Elbow Curve for Test')"
            ]
          },
          "metadata": {},
          "execution_count": 13
        },
        {
          "output_type": "display_data",
          "data": {
            "text/plain": [
              "<Figure size 432x288 with 1 Axes>"
            ],
            "image/png": "[encoded data removed]"
          },
          "metadata": {
            "needs_background": "light"
          }
        }
      ],
      "source": [
        "K = range(1, 10)\n",
        "test = Elbow(K)\n",
        "\n",
        "#plotting\n",
        "plt.plot(K,test)\n",
        "plt.xlabel('K Neighbors')\n",
        "plt.ylabel('Mean Squared Error (MSE)')\n",
        "plt.title('Elbow Curve for Test')"
      ]
    },
    {
      "cell_type": "markdown",
      "id": "34e7b8f9",
      "metadata": {
        "papermill": {
          "duration": 0.03018,
          "end_time": "2021-07-15T08:59:56.726327",
          "exception": false,
          "start_time": "2021-07-15T08:59:56.696147",
          "status": "completed"
        },
        "tags": [],
        "id": "34e7b8f9"
      },
      "source": [
        "**Melakukan improvisasi dengan menerapkan nilai k yang menghasilkan MSE minimum**"
      ]
    },
    {
      "cell_type": "code",
      "execution_count": 14,
      "id": "f29129cb",
      "metadata": {
        "execution": {
          "iopub.execute_input": "2021-07-15T08:59:56.803629Z",
          "iopub.status.busy": "2021-07-15T08:59:56.802462Z",
          "iopub.status.idle": "2021-07-15T08:59:56.812825Z",
          "shell.execute_reply": "2021-07-15T08:59:56.813747Z",
          "shell.execute_reply.started": "2021-07-15T08:46:16.559258Z"
        },
        "papermill": {
          "duration": 0.055684,
          "end_time": "2021-07-15T08:59:56.813890",
          "exception": false,
          "start_time": "2021-07-15T08:59:56.758206",
          "status": "completed"
        },
        "tags": [],
        "colab": {
          "base_uri": "https://localhost:8080/"
        },
        "id": "f29129cb",
        "outputId": "bd4d67b3-c6ae-4e44-b9ff-bcf4e18c9285"
      },
      "outputs": [
        {
          "output_type": "stream",
          "name": "stdout",
          "text": [
            " Accuracy of new model (%): 0.7825249414423282 \n",
            " Accuracy of old model (%): 0.6129905249526334 \n",
            " Improvement (%): 0.1695344164896948\n"
          ]
        }
      ],
      "source": [
        "new_model  = KNN_Reg(n_neighbors = 1)\n",
        "\n",
        "# Train model\n",
        "new_model.fit(train_x, train_y)\n",
        "acc2 = new_model.score(test_x, test_y)\n",
        "\n",
        "# Prediction test\n",
        "print(' Accuracy of new model (%):', acc2, '\\n',\n",
        "      'Accuracy of old model (%):', acc1, '\\n Improvement (%):', (acc2-acc1))"
      ]
    },
    {
      "cell_type": "markdown",
      "id": "dc7e02e8",
      "metadata": {
        "papermill": {
          "duration": 0.030846,
          "end_time": "2021-07-15T08:59:56.875057",
          "exception": false,
          "start_time": "2021-07-15T08:59:56.844211",
          "status": "completed"
        },
        "tags": [],
        "id": "dc7e02e8"
      },
      "source": [
        "**Menentukan hasil prediksi harga**\n",
        "\n",
        "data_harga_rumah = [Luas Bangunan, Luas Tanah, Kamar Tidur, Kamar Mandi, Garasi]"
      ]
    },
    {
      "cell_type": "code",
      "execution_count": 20,
      "id": "63124f1f",
      "metadata": {
        "execution": {
          "iopub.execute_input": "2021-07-15T08:59:56.925406Z",
          "iopub.status.busy": "2021-07-15T08:59:56.923810Z",
          "iopub.status.idle": "2021-07-15T08:59:56.928446Z",
          "shell.execute_reply": "2021-07-15T08:59:56.927655Z",
          "shell.execute_reply.started": "2021-07-15T08:57:42.508055Z"
        },
        "papermill": {
          "duration": 0.031494,
          "end_time": "2021-07-15T08:59:56.928633",
          "exception": false,
          "start_time": "2021-07-15T08:59:56.897139",
          "status": "completed"
        },
        "tags": [],
        "colab": {
          "base_uri": "https://localhost:8080/"
        },
        "id": "63124f1f",
        "outputId": "7d8848b9-ac65-40a5-9ef4-f4ffd44ff71d"
      },
      "outputs": [
        {
          "output_type": "stream",
          "name": "stdout",
          "text": [
            " Hasil Prediksi harga rumah dengan old model: Rp [4.4e+09] Juta\n",
            " Hasil Prediksi harga rumah dengan new model: Rp [3.8e+09] Juta\n"
          ]
        },
        {
          "output_type": "stream",
          "name": "stderr",
          "text": [
            "/usr/local/lib/python3.8/dist-packages/sklearn/base.py:450: UserWarning: X does not have valid feature names, but KNeighborsRegressor was fitted with feature names\n",
            "  warnings.warn(\n",
            "/usr/local/lib/python3.8/dist-packages/sklearn/base.py:450: UserWarning: X does not have valid feature names, but KNeighborsRegressor was fitted with feature names\n",
            "  warnings.warn(\n"
          ]
        }
      ],
      "source": [
        "data_harga_rumah = np.array([[220,220,3,3,1]])\n",
        "pred_old = model.predict(data_harga_rumah)\n",
        "pred_new = new_model.predict(data_harga_rumah)\n",
        "\n",
        "print(' Hasil Prediksi harga rumah dengan old model: Rp', pred_old, 'Juta\\n',\n",
        "      'Hasil Prediksi harga rumah dengan new model: Rp', pred_new, 'Juta')"
      ]
    }
  ],
  "metadata": {
    "kernelspec": {
      "display_name": "Python 3",
      "language": "python",
      "name": "python3"
    },
    "language_info": {
      "codemirror_mode": {
        "name": "ipython",
        "version": 3
      },
      "file_extension": ".py",
      "mimetype": "text/x-python",
      "name": "python",
      "nbconvert_exporter": "python",
      "pygments_lexer": "ipython3",
      "version": "3.7.10"
    },
    "papermill": {
      "default_parameters": {},
      "duration": 10.562156,
      "end_time": "2021-07-15T08:59:57.456745",
      "environment_variables": {},
      "exception": null,
      "input_path": "__notebook__.ipynb",
      "output_path": "__notebook__.ipynb",
      "parameters": {},
      "start_time": "2021-07-15T08:59:46.894589",
      "version": "2.3.3"
    },
    "colab": {
      "provenance": []
    }
  },
  "nbformat": 4,
  "nbformat_minor": 5
}